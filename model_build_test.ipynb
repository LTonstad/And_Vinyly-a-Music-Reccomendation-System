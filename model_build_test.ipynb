{
 "cells": [
  {
   "cell_type": "code",
   "execution_count": 2,
   "metadata": {},
   "outputs": [],
   "source": [
    "import pandas as pd\n",
    "import numpy as np\n",
    "from sklearn.metrics.pairwise import cosine_similarity\n",
    "from sklearn.metrics.pairwise import paired_distances\n",
    "from sklearn.metrics import jaccard_score\n",
    "from sklearn.feature_extraction.text import CountVectorizer, TfidfVectorizer\n",
    "\n",
    "from src.recommender import ItemRecommender\n",
    "\n",
    "import re"
   ]
  },
  {
   "cell_type": "code",
   "execution_count": null,
   "metadata": {
    "scrolled": true
   },
   "outputs": [],
   "source": [
    "numpd.read_pickle('../num_mine.pkl')\n",
    "pd.read_pickle('../num_2010s.pkl')\n",
    "pd.read_pickle('../num_rolling.pkl')\n",
    "pd.read_pickle('../num_mega_main.pkl')"
   ]
  },
  {
   "cell_type": "code",
   "execution_count": null,
   "metadata": {},
   "outputs": [],
   "source": [
    "df_2010_str, df_2010_ref, df_2010_num, df_2010_arrs = split_df_columns(df_2010s)\n",
    "df_2010_str"
   ]
  },
  {
   "cell_type": "code",
   "execution_count": null,
   "metadata": {},
   "outputs": [],
   "source": [
    "df_2010_str.columns"
   ]
  },
  {
   "cell_type": "code",
   "execution_count": null,
   "metadata": {},
   "outputs": [],
   "source": [
    "df_2010_str['bag_of_words'] = ''\n",
    "columns = df_2010_str.columns\n",
    "for index, row in df_2010_str.iterrows():\n",
    "    words = ''\n",
    "    for col in columns:\n",
    "        if col == 'artist_genres':\n",
    "            words += ' '.join(row[col])+ ' '\n",
    "        else:\n",
    "            words += row[col]+ ' '\n",
    "    row['bag_of_words'] = words\n",
    "    \n",
    "df_2010_str.drop(columns = [col for col in df_2010_str.columns if col!= 'bag_of_words'], inplace = True)\n",
    "\n",
    "df_2010_str"
   ]
  },
  {
   "cell_type": "code",
   "execution_count": null,
   "metadata": {},
   "outputs": [],
   "source": []
  },
  {
   "cell_type": "code",
   "execution_count": null,
   "metadata": {},
   "outputs": [],
   "source": [
    "df = pd.read_csv('../my_albums.csv', engine='python')"
   ]
  },
  {
   "cell_type": "code",
   "execution_count": null,
   "metadata": {},
   "outputs": [],
   "source": [
    "df.set_index(['album','name'], inplace=True)"
   ]
  },
  {
   "cell_type": "code",
   "execution_count": null,
   "metadata": {},
   "outputs": [],
   "source": [
    "df"
   ]
  },
  {
   "cell_type": "code",
   "execution_count": null,
   "metadata": {},
   "outputs": [],
   "source": [
    "df['has_featured_artist'] = np.where(df['featured_artists'].isna(), 0, 1)\n",
    "df.head()"
   ]
  },
  {
   "cell_type": "code",
   "execution_count": null,
   "metadata": {},
   "outputs": [],
   "source": [
    "df.columns"
   ]
  },
  {
   "cell_type": "markdown",
   "metadata": {},
   "source": [
    "## Seperating Columns based on dtype, also removing a few that don't seem important"
   ]
  },
  {
   "cell_type": "code",
   "execution_count": null,
   "metadata": {},
   "outputs": [],
   "source": [
    "df_str = df[['artist', 'featured_artists', 'release_date']]\n",
    "\n",
    "df_ref = df[['id', 'uri', 'track_href', 'analysis_url',\n",
    "          'artist_uri', 'album_uri', 'album_image_url']]\n",
    "\n",
    "df_num = df[['year', 'has_featured_artist', 'track_number', 'tracks_on_album', 'explicit', 'duration_ms', 'popularity',\n",
    "          'danceability', 'energy', 'key', 'loudness', 'mode', 'speechiness',\n",
    "          'acousticness', 'instrumentalness', 'liveness', 'valence', 'tempo',\n",
    "          'track_length', 'tempo_confidence', 'end_fade_in', 'start_fade_out','end_silence_time']]\n",
    "\n",
    "df_arrs = df[['sections', 'tatums', 'beats', 'bars']]"
   ]
  },
  {
   "cell_type": "markdown",
   "metadata": {},
   "source": [
    "### Looking at string values"
   ]
  },
  {
   "cell_type": "code",
   "execution_count": null,
   "metadata": {},
   "outputs": [],
   "source": [
    "df_ref.head()"
   ]
  },
  {
   "cell_type": "code",
   "execution_count": null,
   "metadata": {},
   "outputs": [],
   "source": [
    "df_str.fillna('No Features', inplace=True)\n",
    "df_str['release_date'] =  pd.to_datetime(df_str['release_date'], format='%Y-%m-%d')"
   ]
  },
  {
   "cell_type": "code",
   "execution_count": null,
   "metadata": {},
   "outputs": [],
   "source": [
    "df_str.head()"
   ]
  },
  {
   "cell_type": "code",
   "execution_count": null,
   "metadata": {},
   "outputs": [],
   "source": []
  },
  {
   "cell_type": "code",
   "execution_count": null,
   "metadata": {},
   "outputs": [],
   "source": []
  },
  {
   "cell_type": "markdown",
   "metadata": {},
   "source": [
    "### Looking at numerical values"
   ]
  },
  {
   "cell_type": "code",
   "execution_count": null,
   "metadata": {},
   "outputs": [],
   "source": [
    "df_num.info()"
   ]
  },
  {
   "cell_type": "code",
   "execution_count": null,
   "metadata": {},
   "outputs": [],
   "source": [
    "df_num.head(1).T"
   ]
  },
  {
   "cell_type": "code",
   "execution_count": null,
   "metadata": {},
   "outputs": [],
   "source": []
  },
  {
   "cell_type": "code",
   "execution_count": null,
   "metadata": {},
   "outputs": [],
   "source": []
  },
  {
   "cell_type": "code",
   "execution_count": null,
   "metadata": {},
   "outputs": [],
   "source": []
  },
  {
   "cell_type": "code",
   "execution_count": null,
   "metadata": {},
   "outputs": [],
   "source": []
  },
  {
   "cell_type": "code",
   "execution_count": null,
   "metadata": {},
   "outputs": [],
   "source": []
  },
  {
   "cell_type": "code",
   "execution_count": null,
   "metadata": {},
   "outputs": [],
   "source": []
  },
  {
   "cell_type": "markdown",
   "metadata": {},
   "source": [
    "### Looking at the Audio Analysis values"
   ]
  },
  {
   "cell_type": "code",
   "execution_count": null,
   "metadata": {},
   "outputs": [],
   "source": [
    "ex_1 = df_arrs['bars'].head(1)\n",
    "ex_1.values"
   ]
  },
  {
   "cell_type": "code",
   "execution_count": null,
   "metadata": {},
   "outputs": [],
   "source": [
    "vals = ex_1.to_dict()"
   ]
  },
  {
   "cell_type": "code",
   "execution_count": null,
   "metadata": {},
   "outputs": [],
   "source": [
    "type(vals)"
   ]
  },
  {
   "cell_type": "code",
   "execution_count": null,
   "metadata": {},
   "outputs": [],
   "source": [
    "pd.DataFrame(vals, index=['1'])"
   ]
  },
  {
   "cell_type": "code",
   "execution_count": null,
   "metadata": {
    "tags": []
   },
   "outputs": [],
   "source": [
    "from collections import OrderedDict, defaultdict\n",
    "dd = defaultdict(list)\n",
    "ex1_vals = ex_1.to_dict(dd)\n",
    "ex1_vals"
   ]
  },
  {
   "cell_type": "code",
   "execution_count": null,
   "metadata": {},
   "outputs": [],
   "source": [
    "ex1_vals.values()"
   ]
  },
  {
   "cell_type": "code",
   "execution_count": null,
   "metadata": {},
   "outputs": [],
   "source": []
  },
  {
   "cell_type": "code",
   "execution_count": null,
   "metadata": {},
   "outputs": [],
   "source": [
    "ex1_vals_lst = ex1_vals.tolist()\n",
    "ex1_vals_lst[0]"
   ]
  },
  {
   "cell_type": "code",
   "execution_count": null,
   "metadata": {},
   "outputs": [],
   "source": [
    "type(ex1_vals_lst[0])"
   ]
  },
  {
   "cell_type": "code",
   "execution_count": null,
   "metadata": {},
   "outputs": [],
   "source": []
  },
  {
   "cell_type": "code",
   "execution_count": null,
   "metadata": {},
   "outputs": [],
   "source": []
  },
  {
   "cell_type": "code",
   "execution_count": null,
   "metadata": {},
   "outputs": [],
   "source": [
    "for x in ex1_vals.tolist():\n",
    "    print(x + '\\n')"
   ]
  },
  {
   "cell_type": "code",
   "execution_count": null,
   "metadata": {},
   "outputs": [],
   "source": []
  },
  {
   "cell_type": "code",
   "execution_count": null,
   "metadata": {},
   "outputs": [],
   "source": []
  },
  {
   "cell_type": "code",
   "execution_count": null,
   "metadata": {},
   "outputs": [],
   "source": []
  },
  {
   "cell_type": "code",
   "execution_count": null,
   "metadata": {},
   "outputs": [],
   "source": []
  },
  {
   "cell_type": "code",
   "execution_count": null,
   "metadata": {},
   "outputs": [],
   "source": []
  },
  {
   "cell_type": "code",
   "execution_count": null,
   "metadata": {},
   "outputs": [],
   "source": [
    "class ItemRecommender():\n",
    "    '''\n",
    "    Content based item recommender\n",
    "    '''\n",
    "    def __init__(self, similarity_measure=cosine_similarity):\n",
    "        self.similarity_matrix = None\n",
    "        self.item_names = None\n",
    "        self.similarity_measure = similarity_measure\n",
    "\n",
    "    \n",
    "    def fit(self, X, titles=None):\n",
    "        '''\n",
    "        Takes a numpy array of the item attributes and creates the similarity matrix\n",
    "\n",
    "        INPUT -\n",
    "            X: NUMPY ARRAY - Rows are items, columns are feature values / or DF\n",
    "            titles: LIST - List of the item names/titles in order of the numpy arrray\n",
    "        \n",
    "        OUTPUT - None\n",
    "\n",
    "\n",
    "        Notes:  You might want to keep titles and X as attributes to refer to them later\n",
    "\n",
    "        Create a similarity matrix of item to item similarity\n",
    "        '''\n",
    "\n",
    "        # While keeping this as a sparse matrix would be best the cosign sim\n",
    "        # function returns a array so there is no reason.\n",
    "        \n",
    "        if isinstance(X, pd.DataFrame):\n",
    "            self.item_counts = X\n",
    "            self.item_names = X.index\n",
    "            self.similarity_df = pd.DataFrame(self.similarity_measure(X.values, X.values),\n",
    "                 index = self.item_names)\n",
    "        else:\n",
    "            self.item_counts = X\n",
    "            self.similarity_df = pd.DataFrame(self.similarity_measure(X, X),\n",
    "                 index = titles)\n",
    "            self.item_names = self.similarity_df.index\n",
    "\n",
    "        \n",
    "    def get_recommendations(self, item, n=5):\n",
    "        '''\n",
    "        Returns the top n items related to the item passed in\n",
    "        INPUT:\n",
    "            item    - STRING - Name of item in the original DataFrame \n",
    "            n       - INT    - Number of top related items to return \n",
    "        OUTPUT:\n",
    "            items - List of the top n related item names\n",
    "\n",
    "        For a given item find the n most similar items to it (this can be done using the similarity matrix created in the fit method)\n",
    "        '''\n",
    "        return self.item_names[self.similarity_df.loc[item].values.argsort()[-(n+1):-1]].values[::-1]\n",
    "\n",
    "\n",
    "    def get_user_profile(self, items):\n",
    "        '''\n",
    "        Takes a list of items and returns a user profile. A vector representing the likes of the user.\n",
    "        INPUT: \n",
    "            items  -   LIST - list of movie names user likes / has seen\n",
    "\n",
    "        OUTPUT: \n",
    "            user_profile - NP ARRAY - array representing the likes of the user \n",
    "                    The columns of this will match the columns of the trained on matrix\n",
    "    \n",
    "\n",
    "        Using the list of items liked by the user create a profile which will be a 1 x number of features array.  This should be the addition of the values for all liked item features (you can choose how to normalize if you think it is needed)\n",
    "        '''\n",
    "        user_profile = np.zeros(self.item_counts.shape[1])\n",
    "        for item in items:\n",
    "            user_profile += self.item_counts.loc[item].values\n",
    "\n",
    "        return user_profile\n",
    "\n",
    "\n",
    "    def get_user_recommendation(self, items, n=5):\n",
    "        '''\n",
    "        Takes a list of movies user liked and returns the top n items for that user\n",
    "\n",
    "        INPUT \n",
    "            items  -   LIST - list of movie names user likes / has seen\n",
    "            n -  INT - number of items to return\n",
    "\n",
    "        OUTPUT \n",
    "            items - LIST - n recommended items\n",
    "\n",
    "    \n",
    "        Make use of the get_user_profile method to create a user profile that will be used to get the similarity to all items and recommend the top n.\n",
    "        '''\n",
    "        num_items = len(items)\n",
    "        user_profile = self.get_user_profile(items)\n",
    "\n",
    "        user_sim =  self.similarity_measure(self.item_counts, user_profile.reshape(1,-1))\n",
    "\n",
    "        return self.item_names[user_sim[:,0].argsort()[-(num_items+n):-num_items]].values[::-1]\n",
    "\n",
    "\n",
    "\n",
    "\n",
    "\n"
   ]
  }
 ],
 "metadata": {
  "kernelspec": {
   "display_name": "Python 3",
   "language": "python",
   "name": "python3"
  },
  "language_info": {
   "codemirror_mode": {
    "name": "ipython",
    "version": 3
   },
   "file_extension": ".py",
   "mimetype": "text/x-python",
   "name": "python",
   "nbconvert_exporter": "python",
   "pygments_lexer": "ipython3",
   "version": "3.7.9"
  }
 },
 "nbformat": 4,
 "nbformat_minor": 5
}
