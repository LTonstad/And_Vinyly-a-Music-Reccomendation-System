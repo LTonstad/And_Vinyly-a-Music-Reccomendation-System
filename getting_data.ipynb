{
 "cells": [
  {
   "cell_type": "markdown",
   "metadata": {},
   "source": [
    "# Capstone 3: \"And Vinyl-ly\"\n",
    "\n",
    "## This notebook is used for testing functions related to getting and cleaning data\n",
    "\n",
    "## Imports and setting up Spotipy Client"
   ]
  },
  {
   "cell_type": "code",
   "execution_count": 1,
   "metadata": {},
   "outputs": [],
   "source": [
    "import numpy as np\n",
    "import pandas as pd\n",
    "import spotipy\n",
    "from spotipy.oauth2 import SpotifyClientCredentials\n",
    "from collections import defaultdict\n",
    "from PIL import Image\n",
    "import requests\n",
    "import matplotlib.pyplot as plt\n",
    "from src.get_data import *\n",
    "import seaborn as sns\n",
    "\n",
    "plt.style.use('fivethirtyeight')"
   ]
  },
  {
   "cell_type": "markdown",
   "metadata": {},
   "source": [
    "## Taking a look at my personal vinyl information from Discogs\n",
    "\n",
    "* They do have an [api](https://www.discogs.com/developers) however for whatever reason I was not able to get my personal collection data, so to make it easy I just downloaded the csv through \"**Export My Collection**\" option on [my profile](https://www.discogs.com/users/export?w=collection)"
   ]
  },
  {
   "cell_type": "code",
   "execution_count": 2,
   "metadata": {},
   "outputs": [
    {
     "name": "stdout",
     "output_type": "stream",
     "text": [
      "Skeptical Schematics\n"
     ]
    }
   ],
   "source": [
    "# Shows playlists of user, however mine does not seem to be up to date\n",
    "playlists = sp.user_playlists(128738547)\n",
    "\n",
    "for playlist in playlists['items']:\n",
    "    print(playlist['name'])"
   ]
  },
  {
   "cell_type": "code",
   "execution_count": 3,
   "metadata": {
    "scrolled": true
   },
   "outputs": [],
   "source": [
    "albums = pd.read_excel('data/my_albums.ods')\n",
    "albums['Title'] = albums['Title'].map(str)"
   ]
  },
  {
   "cell_type": "code",
   "execution_count": 4,
   "metadata": {
    "scrolled": true
   },
   "outputs": [
    {
     "name": "stdout",
     "output_type": "stream",
     "text": [
      "0 The Saga Continues\n",
      "1 Bon Iver, Bon Iver\n",
      "2 The Eminem Show\n",
      "3 An Awesome Wave\n",
      "4 Ti Amo\n",
      "5 Rap Album Two\n",
      "6 Thank You For Today\n",
      "7 1989\n",
      "8 None Shall Pass\n",
      "9 Teenage Dream\n",
      "10 Greatest Hits 1974-78\n",
      "11 The Human Condition\n",
      "12 The Definition\n",
      "13 Glory Sound Prep\n",
      "14 Continuum\n",
      "15 Bob Dylan's Greatest Hits Volume II\n",
      "16 Illmatic\n",
      "17 Flower Boy\n",
      "18 Animals\n",
      "19 Ye\n",
      "20 Good News For People Who Love Bad News\n",
      "21 Boston\n",
      "22 The Pick Of Destiny\n",
      "23 Chronicle: 20 Greatest Hits\n",
      "24 Run The Jewels\n",
      "25 XXX\n",
      "26 Some Nights\n",
      "27 We Don't Need To Whisper\n",
      "28 Cheshire Cat\n",
      "29 Camp\n",
      "30 The Dark Side Of The Moon\n",
      "31 How To Be A Human Being\n",
      "32 Currents\n",
      "33 Leftoverture (Expanded Edition)\n",
      "34 Aquemini\n",
      "35 Stankonia\n",
      "36 Runaround Sue\n",
      "37 Run The Jewels 2\n",
      "38 Blink-182\n",
      "39 Enema Of The State\n",
      "40 Legends Never Die\n",
      "41 Professional Rapper\n",
      "42 I-Empire\n",
      "43 10 Day\n",
      "44 Acid Rap\n",
      "45 Wolf\n",
      "46 The Now Now\n",
      "47 Humanz\n",
      "48 Demon Days\n",
      "49 Plastic Beach\n",
      "50 Gorillaz\n",
      "51 Melophobia\n",
      "52 Felt 2: A Tribute To Lisa Bonet\n",
      "53 Overcast! (20 Year Anniversary Remaster)\n",
      "54 Shadows On The Sun\n",
      "55 MM…FOOD\n",
      "56 Sad Clown Bad Summer Number 9\n",
      "57 You Can't Imagine How Much Fun We're Having\n",
      "58 Southsiders\n",
      "59 The Impossible Kid\n",
      "60 Pookie Baby\n",
      "61 Deadringer: Deluxe\n",
      "62 My Beautiful Dark Twisted Fantasy\n",
      "63 The College Dropout\n",
      "64 Run The Jewels 3\n",
      "65 Take Off Your Pants And Jacket\n",
      "66 Madvillainy\n",
      "67 Pure Comedy\n",
      "68 The Rick And Morty Soundtrack\n",
      "69 Who's Next\n",
      "70 Man On The Moon: The End Of Day\n",
      "71 Man On The Moon II: The Legend Of Mr. Rager\n",
      "72 You Gotta Go There To Come Back\n",
      "73 Homesick\n",
      "74 By The Way\n",
      "75 Swimming\n",
      "76 Contra\n",
      "77 Classics\n",
      "78 Modern Vampires Of The City\n"
     ]
    }
   ],
   "source": [
    "# Prints list of the album titles in my albums\n",
    "for idx, name in enumerate(albums['Title']):\n",
    "    print(idx, name)"
   ]
  },
  {
   "cell_type": "markdown",
   "metadata": {},
   "source": [
    "## Pulling data using the 'get_album_df' function in src/get_data.py\n",
    "\n",
    "* Ran through this process all files located in the 'data' folder\n",
    "* Resulting DataFrames ended up being so large that it wouldn't fit in GitHub, so I have them backed up and stored locally in a few places"
   ]
  },
  {
   "cell_type": "code",
   "execution_count": null,
   "metadata": {},
   "outputs": [],
   "source": [
    "#album_df = get_album_df(albums, 'my_vinyls')"
   ]
  },
  {
   "cell_type": "markdown",
   "metadata": {},
   "source": [
    "# Reading in data and cleaning out a few items to prep for KMeans Clustering"
   ]
  },
  {
   "cell_type": "code",
   "execution_count": 5,
   "metadata": {},
   "outputs": [],
   "source": [
    "# Combining Data\n",
    "df_mine = pd.read_csv('../my_vinyls.csv')\n",
    "df_rolling = pd.read_csv('../rolling_stone_albums.csv')\n",
    "df_2010s = pd.read_pickle('../2010s_albums.pkl')"
   ]
  },
  {
   "cell_type": "code",
   "execution_count": 6,
   "metadata": {},
   "outputs": [],
   "source": [
    "df_2010s = df_2010s[['name', 'album', 'year', 'release_date', 'artist', 'featured_artists', 'artist_genres', \n",
    "                         'artist_popularity', 'followers', 'track_number', 'tracks_on_album', 'album_label', \n",
    "                         'explicit', 'duration_ms', 'popularity', 'danceability', 'energy', 'key', 'loudness', \n",
    "                         'mode', 'speechiness', 'acousticness', 'instrumentalness', 'liveness', 'valence', \n",
    "                         'tempo', 'tempo_confidence', 'track_length', 'end_fade_in', 'start_fade_out', 'end_silence_time', \n",
    "                         'id', 'uri','track_href', 'analysis_url', 'artist_uri','album_uri', 'album_image_url',\n",
    "                         'artist_spotify_link', 'artist_image_url', 'sections', 'tatums', 'beats', 'bars']]\n",
    "\n",
    "df_rolling = df_rolling[['name', 'album', 'year', 'release_date', 'artist', 'featured_artists', 'artist_genres', \n",
    "                         'artist_popularity', 'followers', 'track_number', 'tracks_on_album', 'album_label', \n",
    "                         'explicit', 'duration_ms', 'popularity', 'danceability', 'energy', 'key', 'loudness', \n",
    "                         'mode', 'speechiness', 'acousticness', 'instrumentalness', 'liveness', 'valence', \n",
    "                         'tempo', 'tempo_confidence', 'track_length', 'end_fade_in', 'start_fade_out', 'end_silence_time', \n",
    "                         'id', 'uri','track_href', 'analysis_url', 'artist_uri','album_uri', 'album_image_url',\n",
    "                         'artist_spotify_link', 'artist_image_url', 'sections', 'tatums', 'beats', 'bars']]\n",
    "\n",
    "df_mine = df_mine[['name', 'album', 'year', 'release_date', 'artist', 'featured_artists', 'artist_genres', \n",
    "                         'artist_popularity', 'followers', 'track_number', 'tracks_on_album', 'album_label', \n",
    "                         'explicit', 'duration_ms', 'popularity', 'danceability', 'energy', 'key', 'loudness', \n",
    "                         'mode', 'speechiness', 'acousticness', 'instrumentalness', 'liveness', 'valence', \n",
    "                         'tempo', 'tempo_confidence', 'track_length', 'end_fade_in', 'start_fade_out', 'end_silence_time', \n",
    "                         'id', 'uri','track_href', 'analysis_url', 'artist_uri','album_uri', 'album_image_url',\n",
    "                         'artist_spotify_link', 'artist_image_url', 'sections', 'tatums', 'beats', 'bars']]"
   ]
  },
  {
   "cell_type": "code",
   "execution_count": 7,
   "metadata": {
    "scrolled": true
   },
   "outputs": [
    {
     "name": "stdout",
     "output_type": "stream",
     "text": [
      "<class 'pandas.core.frame.DataFrame'>\n",
      "Int64Index: 12636 entries, 0 to 1105\n",
      "Data columns (total 44 columns):\n",
      " #   Column               Non-Null Count  Dtype  \n",
      "---  ------               --------------  -----  \n",
      " 0   name                 12636 non-null  object \n",
      " 1   album                12636 non-null  object \n",
      " 2   year                 12636 non-null  object \n",
      " 3   release_date         12636 non-null  object \n",
      " 4   artist               12636 non-null  object \n",
      " 5   featured_artists     1239 non-null   object \n",
      " 6   artist_genres        12636 non-null  object \n",
      " 7   artist_popularity    12636 non-null  object \n",
      " 8   followers            12636 non-null  object \n",
      " 9   track_number         12636 non-null  object \n",
      " 10  tracks_on_album      12636 non-null  object \n",
      " 11  album_label          12636 non-null  object \n",
      " 12  explicit             12636 non-null  int64  \n",
      " 13  duration_ms          12636 non-null  int64  \n",
      " 14  popularity           12636 non-null  int64  \n",
      " 15  danceability         12636 non-null  float64\n",
      " 16  energy               12636 non-null  float64\n",
      " 17  key                  12636 non-null  float64\n",
      " 18  loudness             12636 non-null  float64\n",
      " 19  mode                 12636 non-null  float64\n",
      " 20  speechiness          12636 non-null  float64\n",
      " 21  acousticness         12636 non-null  float64\n",
      " 22  instrumentalness     12636 non-null  float64\n",
      " 23  liveness             12636 non-null  float64\n",
      " 24  valence              12636 non-null  float64\n",
      " 25  tempo                12636 non-null  float64\n",
      " 26  tempo_confidence     12636 non-null  object \n",
      " 27  track_length         12636 non-null  object \n",
      " 28  end_fade_in          12636 non-null  float64\n",
      " 29  start_fade_out       12636 non-null  float64\n",
      " 30  end_silence_time     12636 non-null  float64\n",
      " 31  id                   12636 non-null  object \n",
      " 32  uri                  12636 non-null  object \n",
      " 33  track_href           12636 non-null  object \n",
      " 34  analysis_url         12636 non-null  object \n",
      " 35  artist_uri           12636 non-null  object \n",
      " 36  album_uri            12636 non-null  object \n",
      " 37  album_image_url      12636 non-null  object \n",
      " 38  artist_spotify_link  12636 non-null  object \n",
      " 39  artist_image_url     12636 non-null  object \n",
      " 40  sections             12636 non-null  object \n",
      " 41  tatums               12636 non-null  object \n",
      " 42  beats                12636 non-null  object \n",
      " 43  bars                 12636 non-null  object \n",
      "dtypes: float64(14), int64(3), object(27)\n",
      "memory usage: 4.3+ MB\n"
     ]
    }
   ],
   "source": [
    "frames = [df_2010s, df_rolling, df_mine]\n",
    "\n",
    "df_mainframe = pd.concat(frames)\n",
    "\n",
    "df_mainframe.info()"
   ]
  },
  {
   "cell_type": "code",
   "execution_count": 8,
   "metadata": {},
   "outputs": [],
   "source": [
    "# Creating bool value for if an there is an artist feature in the song\n",
    "df_mainframe['has_featured_artist'] = np.where(df_mainframe['featured_artists'].isna(), 0, 1)\n",
    "\n",
    "# Filling featured artists with 'No Features' as a string\n",
    "df_mainframe['featured_artists'].fillna('No Features', inplace=True)\n",
    "\n",
    "# Little organizing columns and removing a few that seemed unneccesary\n",
    "df_mainframe = df_mainframe[['name', 'album', 'year', 'release_date', 'artist', 'has_featured_artist', 'featured_artists', 'artist_genres', \n",
    "                         'artist_popularity', 'followers', 'track_number', 'tracks_on_album', 'album_label', \n",
    "                         'explicit', 'duration_ms', 'popularity', 'danceability', 'energy', 'key', 'loudness', \n",
    "                         'mode', 'speechiness', 'acousticness', 'instrumentalness', 'liveness', 'valence', \n",
    "                         'tempo', 'tempo_confidence', 'track_length', 'end_fade_in', 'start_fade_out', 'end_silence_time', \n",
    "                         'id', 'uri','track_href', 'analysis_url', 'artist_uri','album_uri', 'album_image_url',\n",
    "                         'artist_spotify_link', 'artist_image_url', 'sections', 'tatums', 'beats', 'bars']]\n",
    "\n",
    "# Resetting index\n",
    "df_mainframe.reset_index(inplace=True)\n",
    "\n",
    "# Removes columns that had string values in what should be a numeric column\n",
    "messed_rows = df_mainframe[pd.to_numeric(df_mainframe['year'], errors='coerce').isnull()]\n",
    "df_mainframe.drop(messed_rows.index, inplace=True)\n",
    "\n",
    "# Modifying columns that were of DType object, when should be numeric\n",
    "num_cols = ['year', 'track_length', 'tempo_confidence', 'artist_popularity', 'followers', 'track_number', 'tracks_on_album']\n",
    "df_mainframe[num_cols] = df_mainframe[num_cols].apply(pd.to_numeric)\n",
    "\n",
    "df_mainframe.drop('index', axis=1, inplace=True)"
   ]
  },
  {
   "cell_type": "code",
   "execution_count": null,
   "metadata": {
    "scrolled": true
   },
   "outputs": [],
   "source": [
    "# Sanity Check\n",
    "df_mainframe.info()"
   ]
  },
  {
   "cell_type": "code",
   "execution_count": 28,
   "metadata": {},
   "outputs": [],
   "source": [
    "X = df_mainframe.select_dtypes(np.number)"
   ]
  },
  {
   "cell_type": "markdown",
   "metadata": {},
   "source": [
    "# Preproccessing"
   ]
  },
  {
   "cell_type": "code",
   "execution_count": null,
   "metadata": {},
   "outputs": [],
   "source": [
    "from sklearn.prepro"
   ]
  },
  {
   "cell_type": "code",
   "execution_count": null,
   "metadata": {},
   "outputs": [],
   "source": []
  },
  {
   "cell_type": "markdown",
   "metadata": {},
   "source": [
    "# Choosing amount of clusters"
   ]
  },
  {
   "cell_type": "code",
   "execution_count": 30,
   "metadata": {},
   "outputs": [
    {
     "ename": "KeyboardInterrupt",
     "evalue": "",
     "output_type": "error",
     "traceback": [
      "\u001b[0;31m---------------------------------------------------------------------------\u001b[0m",
      "\u001b[0;31mKeyboardInterrupt\u001b[0m                         Traceback (most recent call last)",
      "\u001b[0;32m<ipython-input-30-d308aec8a6f8>\u001b[0m in \u001b[0;36m<module>\u001b[0;34m()\u001b[0m\n\u001b[1;32m     23\u001b[0m     \u001b[0;32mfor\u001b[0m \u001b[0mc\u001b[0m \u001b[0;32min\u001b[0m \u001b[0mrange\u001b[0m\u001b[0;34m(\u001b[0m\u001b[0;36m0\u001b[0m\u001b[0;34m,\u001b[0m \u001b[0mk\u001b[0m\u001b[0;34m)\u001b[0m\u001b[0;34m:\u001b[0m\u001b[0;34m\u001b[0m\u001b[0m\n\u001b[1;32m     24\u001b[0m         \u001b[0;32mfor\u001b[0m \u001b[0mi1\u001b[0m\u001b[0;34m,\u001b[0m \u001b[0mi2\u001b[0m \u001b[0;32min\u001b[0m \u001b[0mitertools\u001b[0m\u001b[0;34m.\u001b[0m\u001b[0mcombinations\u001b[0m\u001b[0;34m(\u001b[0m\u001b[0;34m[\u001b[0m \u001b[0mi\u001b[0m \u001b[0;32mfor\u001b[0m \u001b[0mi\u001b[0m \u001b[0;32min\u001b[0m \u001b[0mrange\u001b[0m\u001b[0;34m(\u001b[0m\u001b[0mlen\u001b[0m\u001b[0;34m(\u001b[0m\u001b[0my\u001b[0m\u001b[0;34m)\u001b[0m\u001b[0;34m)\u001b[0m \u001b[0;32mif\u001b[0m \u001b[0my\u001b[0m\u001b[0;34m[\u001b[0m\u001b[0mi\u001b[0m\u001b[0;34m]\u001b[0m \u001b[0;34m==\u001b[0m \u001b[0mc\u001b[0m \u001b[0;34m]\u001b[0m\u001b[0;34m,\u001b[0m \u001b[0;36m2\u001b[0m\u001b[0;34m)\u001b[0m\u001b[0;34m:\u001b[0m\u001b[0;34m\u001b[0m\u001b[0m\n\u001b[0;32m---> 25\u001b[0;31m             \u001b[0mwcss\u001b[0m\u001b[0;34m[\u001b[0m\u001b[0mk\u001b[0m\u001b[0;34m]\u001b[0m \u001b[0;34m+=\u001b[0m \u001b[0msum\u001b[0m\u001b[0;34m(\u001b[0m\u001b[0mx\u001b[0m\u001b[0;34m[\u001b[0m\u001b[0mi1\u001b[0m\u001b[0;34m]\u001b[0m \u001b[0;34m-\u001b[0m \u001b[0mx\u001b[0m\u001b[0;34m[\u001b[0m\u001b[0mi2\u001b[0m\u001b[0;34m]\u001b[0m\u001b[0;34m)\u001b[0m\u001b[0;34m**\u001b[0m\u001b[0;36m2\u001b[0m\u001b[0;34m\u001b[0m\u001b[0m\n\u001b[0m\u001b[1;32m     26\u001b[0m     \u001b[0mwcss\u001b[0m\u001b[0;34m[\u001b[0m\u001b[0mk\u001b[0m\u001b[0;34m]\u001b[0m \u001b[0;34m/=\u001b[0m \u001b[0;36m2\u001b[0m\u001b[0;34m\u001b[0m\u001b[0m\n\u001b[1;32m     27\u001b[0m \u001b[0;34m\u001b[0m\u001b[0m\n",
      "\u001b[0;31mKeyboardInterrupt\u001b[0m: "
     ]
    },
    {
     "data": {
      "image/png": "[encoded data removed]",
      "text/plain": [
       "<Figure size 1152x648 with 12 Axes>"
      ]
     },
     "metadata": {
      "needs_background": "light"
     },
     "output_type": "display_data"
    }
   ],
   "source": [
    "from sklearn.metrics import silhouette_score\n",
    "from sklearn.cluster import KMeans\n",
    "import itertools\n",
    "\n",
    "x = X.values\n",
    "maxk = 13\n",
    "wcss = np.zeros(maxk)\n",
    "silhouette = np.zeros(maxk)\n",
    "\n",
    "fig, axes = plt.subplots(3, 4, figsize=(16,9))\n",
    "\n",
    "# flatten\n",
    "axes = [ax for axrow in axes for ax in axrow]\n",
    "\n",
    "for k, ax in zip(range(1,maxk), axes):\n",
    "    km = KMeans(k)\n",
    "    y = km.fit_predict(x)\n",
    "    ax.axis('off')\n",
    "    ax.scatter(x[:,0], x[:,1], c=y, linewidths=0, s=10)\n",
    "    ax.set_ylim(ymin=-9, ymax=8)\n",
    "    \n",
    "    \n",
    "    for c in range(0, k):\n",
    "        for i1, i2 in itertools.combinations([ i for i in range(len(y)) if y[i] == c ], 2):\n",
    "            wcss[k] += sum(x[i1] - x[i2])**2\n",
    "    wcss[k] /= 2\n",
    "    \n",
    "    if k > 1:\n",
    "        silhouette[k] = silhouette_score(x,y)"
   ]
  },
  {
   "cell_type": "markdown",
   "metadata": {},
   "source": [
    "# Clustering"
   ]
  },
  {
   "cell_type": "code",
   "execution_count": null,
   "metadata": {},
   "outputs": [],
   "source": [
    "from sklearn.preprocessing import StandardScaler\n",
    "from sklearn.pipeline import Pipeline\n",
    "\n",
    "cluster_pipeline = Pipeline([('scaler', StandardScaler()), ('kmeans', KMeans(n_clusters=10, n_jobs=-1))])\n",
    "\n",
    "X = df_main.select_dtypes(np.number)\n",
    "cluster_pipeline.fit(X)\n",
    "y = cluster_pipeline.predict(X)"
   ]
  },
  {
   "cell_type": "code",
   "execution_count": null,
   "metadata": {
    "scrolled": true
   },
   "outputs": [],
   "source": [
    "df_main['cluster_groups'] = y.tolist()\n",
    "df_main.head(1).T"
   ]
  },
  {
   "cell_type": "code",
   "execution_count": null,
   "metadata": {
    "scrolled": true
   },
   "outputs": [],
   "source": [
    "df_corr = df_main.corr()\n",
    "df_corr"
   ]
  },
  {
   "cell_type": "code",
   "execution_count": null,
   "metadata": {
    "scrolled": true
   },
   "outputs": [],
   "source": [
    "df_corr['cluster_groups'].sort_values(ascending=True).plot(title='Features Correlations with the groups chosen by K-Means', kind='barh', figsize=(24,40))\n",
    "plt.tight_layout()\n",
    "#plt.savefig('images/feature_correlation.png')"
   ]
  },
  {
   "cell_type": "code",
   "execution_count": null,
   "metadata": {
    "scrolled": true
   },
   "outputs": [],
   "source": [
    "fig, ax = plt.subplots(figsize=(18,18))\n",
    "sns.heatmap(df_corr, ax=ax)\n"
   ]
  }
 ],
 "metadata": {
  "kernelspec": {
   "display_name": "Python 3",
   "language": "python",
   "name": "python3"
  },
  "language_info": {
   "codemirror_mode": {
    "name": "ipython",
    "version": 3
   },
   "file_extension": ".py",
   "mimetype": "text/x-python",
   "name": "python",
   "nbconvert_exporter": "python",
   "pygments_lexer": "ipython3",
   "version": "3.7.0"
  }
 },
 "nbformat": 4,
 "nbformat_minor": 4
}
