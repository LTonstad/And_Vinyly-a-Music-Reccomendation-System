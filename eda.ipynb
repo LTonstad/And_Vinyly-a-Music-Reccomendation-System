{
 "cells": [
  {
   "cell_type": "code",
   "execution_count": 1,
   "metadata": {},
   "outputs": [],
   "source": [
    "from src.recommender import *"
   ]
  },
  {
   "cell_type": "code",
   "execution_count": 2,
   "metadata": {},
   "outputs": [
    {
     "name": "stdout",
     "output_type": "stream",
     "text": [
      "My shape is (1109, 621) \n",
      "\n",
      "Rolling shape is (1363, 621) \n",
      "\n",
      "2010s shape is (10167, 617) \n",
      "\n",
      "Mega_Mains shape is (12636, 621) \n",
      "\n"
     ]
    }
   ],
   "source": [
    "print(f'My shape is {df_mine.shape}', '\\n')\n",
    "print(f'Rolling shape is {df_rolling.shape}', '\\n')\n",
    "print(f'2010s shape is {df_2010s.shape}', '\\n')\n",
    "print(f'Mega_Mains shape is {df_mega_main.shape}', '\\n')"
   ]
  },
  {
   "cell_type": "code",
   "execution_count": null,
   "metadata": {},
   "outputs": [],
   "source": [
    "df = df_mine[df_mine.columns[:24]]\n",
    "df"
   ]
  },
  {
   "cell_type": "code",
   "execution_count": null,
   "metadata": {},
   "outputs": [],
   "source": []
  },
  {
   "cell_type": "code",
   "execution_count": null,
   "metadata": {
    "scrolled": true
   },
   "outputs": [],
   "source": [
    "fig, ax = plt.subplots(figsize=(18,18))"
   ]
  },
  {
   "cell_type": "code",
   "execution_count": null,
   "metadata": {},
   "outputs": [],
   "source": []
  }
 ],
 "metadata": {
  "kernelspec": {
   "display_name": "Python 3",
   "language": "python",
   "name": "python3"
  },
  "language_info": {
   "codemirror_mode": {
    "name": "ipython",
    "version": 3
   },
   "file_extension": ".py",
   "mimetype": "text/x-python",
   "name": "python",
   "nbconvert_exporter": "python",
   "pygments_lexer": "ipython3",
   "version": "3.7.9"
  }
 },
 "nbformat": 4,
 "nbformat_minor": 4
}
